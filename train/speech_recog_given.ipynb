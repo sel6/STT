{
  "nbformat": 4,
  "nbformat_minor": 0,
  "metadata": {
    "colab": {
      "name": "speech_recog_given.ipynb",
      "provenance": []
    },
    "kernelspec": {
      "name": "python3",
      "display_name": "Python 3"
    },
    "language_info": {
      "name": "python"
    }
  },
  "cells": [
    {
      "cell_type": "code",
      "execution_count": null,
      "metadata": {
        "colab": {
          "base_uri": "https://localhost:8080/"
        },
        "id": "kKKVuYutbsca",
        "outputId": "587fea6f-9a87-4289-f993-d0259a60c219"
      },
      "outputs": [
        {
          "output_type": "stream",
          "name": "stdout",
          "text": [
            "Mounted at /content/drive\n"
          ]
        }
      ],
      "source": [
        "from google.colab import drive\n",
        "drive.mount('/content/drive', force_remount=True)"
      ]
    },
    {
      "cell_type": "code",
      "source": [
        "import os\n",
        "os.chdir(\"drive/MyDrive/data/AMHARIC\")\n",
        "os.listdir()"
      ],
      "metadata": {
        "colab": {
          "base_uri": "https://localhost:8080/"
        },
        "id": "nG46maTTb-KA",
        "outputId": "ca0efdab-48eb-496a-b168-39209531d3f2"
      },
      "execution_count": null,
      "outputs": [
        {
          "output_type": "execute_result",
          "data": {
            "text/plain": [
              "['README.md', 'data', 'kaldi-script', 'lang', 'lm']"
            ]
          },
          "metadata": {},
          "execution_count": 2
        }
      ]
    },
    {
      "cell_type": "code",
      "source": [
        "import librosa   #for audio processing\n",
        "import IPython.display as ipd\n",
        "import matplotlib.pyplot as plt\n",
        "import numpy as np\n",
        "from scipy.io import wavfile #for audio processing\n",
        "#for pipeline\n",
        "from sklearn.pipeline import Pipeline\n",
        "from sklearn.preprocessing import FunctionTransformer\n",
        "import warnings\n",
        "warnings.filterwarnings(\"ignore\")"
      ],
      "metadata": {
        "id": "aJznYFUfcW3d"
      },
      "execution_count": null,
      "outputs": []
    },
    {
      "cell_type": "code",
      "source": [
        "import pandas as pd\n",
        "meta_data=pd.read_csv(\"data/train/trsTrain.txt\",sep=\"\\t\",header=None)\n",
        "def create_meta_data(df:pd.DataFrame, column1:str, column2:str):\n",
        "    df.rename(columns = {0: column1}, inplace = True)\n",
        "    df[column2] = df[column1].apply(lambda x: x.split(\"</s>\")[1].replace(\"(\", \"\").replace(\")\", \"\").strip())\n",
        "    df[column1] = df[column1].apply(lambda x: x.split(\"</s>\")[0])\n",
        "    df[column1] = df[column1].apply(lambda x: x.split(\"<s>\")[1].strip())\n",
        "    df[column2] = df[column2].apply(lambda x: \"data/train/wav/\"+x+\".wav\")\n",
        "    return df\n",
        "\n",
        "pipe = Pipeline(steps = [(\"metadata\", FunctionTransformer(create_meta_data, kw_args={\"column1\":'Transcript', \"column2\": 'audio'}))])\n",
        "meta_pipe = pipe.fit_transform(meta_data)\n",
        "meta_data"
      ],
      "metadata": {
        "colab": {
          "base_uri": "https://localhost:8080/",
          "height": 424
        },
        "id": "C_FW_5QPcc0A",
        "outputId": "deb918a4-98d5-4b64-ded5-e1210cb0e1ec"
      },
      "execution_count": null,
      "outputs": [
        {
          "output_type": "execute_result",
          "data": {
            "text/plain": [
              "                                              Transcript  \\\n",
              "0                        ያንደኛ ደረጃ ትምህርታቸው ን ጐንደር ተ ም ረዋል   \n",
              "1      የተ ለቀቁት ምርኮኞች በ አካባቢያቸው ሰላማዊ ኑሮ እንዲ ኖሩ የ ትራንስፖ...   \n",
              "2      በ አዲስ አበባው ስታዲየም በ ተካሄዱ ት ሁለት ግጥሚያ ዎች በ መጀመሪያ ...   \n",
              "3                              ወሬው ን ወሬ ያደረጉ ምስጢረ ኞች ናቸው   \n",
              "4       ኢትዮጵያዊ ቷ በ ብሄራዊ ባህላዊ አለባበስ ከ አለም አንደኝነት ን ተቀዳጀ ች   \n",
              "...                                                  ...   \n",
              "10870                                      እንስራ ው ተ ሸነቆረ   \n",
              "10871                     ቤዛ ጐረ መሰ መሰለኝ ትእዛዝ አል ቀበል ም አለ   \n",
              "10872                            በለጠ ች የ በየነ የ በኩር ልጅ ነች   \n",
              "10873      እንዲያ መሬት አይ ን ካ ኝ ይል የነበረ ሰው በ ድንገት ቆረቆዘ አይደል   \n",
              "10874                           እጀ ጐልዳ ፋው ሰው ዬ መጻፍ አይችልም   \n",
              "\n",
              "                                     audio  \n",
              "0          data/train/wav/tr_1_tr01001.wav  \n",
              "1          data/train/wav/tr_2_tr01002.wav  \n",
              "2          data/train/wav/tr_3_tr01003.wav  \n",
              "3          data/train/wav/tr_4_tr01004.wav  \n",
              "4          data/train/wav/tr_5_tr01005.wav  \n",
              "...                                    ...  \n",
              "10870  data/train/wav/tr_10871_tr09145.wav  \n",
              "10871  data/train/wav/tr_10872_tr09146.wav  \n",
              "10872  data/train/wav/tr_10873_tr09147.wav  \n",
              "10873  data/train/wav/tr_10874_tr09148.wav  \n",
              "10874  data/train/wav/tr_10875_tr09149.wav  \n",
              "\n",
              "[10875 rows x 2 columns]"
            ],
            "text/html": [
              "\n",
              "  <div id=\"df-683eaba7-d381-4632-8d1e-586e40611a7e\">\n",
              "    <div class=\"colab-df-container\">\n",
              "      <div>\n",
              "<style scoped>\n",
              "    .dataframe tbody tr th:only-of-type {\n",
              "        vertical-align: middle;\n",
              "    }\n",
              "\n",
              "    .dataframe tbody tr th {\n",
              "        vertical-align: top;\n",
              "    }\n",
              "\n",
              "    .dataframe thead th {\n",
              "        text-align: right;\n",
              "    }\n",
              "</style>\n",
              "<table border=\"1\" class=\"dataframe\">\n",
              "  <thead>\n",
              "    <tr style=\"text-align: right;\">\n",
              "      <th></th>\n",
              "      <th>Transcript</th>\n",
              "      <th>audio</th>\n",
              "    </tr>\n",
              "  </thead>\n",
              "  <tbody>\n",
              "    <tr>\n",
              "      <th>0</th>\n",
              "      <td>ያንደኛ ደረጃ ትምህርታቸው ን ጐንደር ተ ም ረዋል</td>\n",
              "      <td>data/train/wav/tr_1_tr01001.wav</td>\n",
              "    </tr>\n",
              "    <tr>\n",
              "      <th>1</th>\n",
              "      <td>የተ ለቀቁት ምርኮኞች በ አካባቢያቸው ሰላማዊ ኑሮ እንዲ ኖሩ የ ትራንስፖ...</td>\n",
              "      <td>data/train/wav/tr_2_tr01002.wav</td>\n",
              "    </tr>\n",
              "    <tr>\n",
              "      <th>2</th>\n",
              "      <td>በ አዲስ አበባው ስታዲየም በ ተካሄዱ ት ሁለት ግጥሚያ ዎች በ መጀመሪያ ...</td>\n",
              "      <td>data/train/wav/tr_3_tr01003.wav</td>\n",
              "    </tr>\n",
              "    <tr>\n",
              "      <th>3</th>\n",
              "      <td>ወሬው ን ወሬ ያደረጉ ምስጢረ ኞች ናቸው</td>\n",
              "      <td>data/train/wav/tr_4_tr01004.wav</td>\n",
              "    </tr>\n",
              "    <tr>\n",
              "      <th>4</th>\n",
              "      <td>ኢትዮጵያዊ ቷ በ ብሄራዊ ባህላዊ አለባበስ ከ አለም አንደኝነት ን ተቀዳጀ ች</td>\n",
              "      <td>data/train/wav/tr_5_tr01005.wav</td>\n",
              "    </tr>\n",
              "    <tr>\n",
              "      <th>...</th>\n",
              "      <td>...</td>\n",
              "      <td>...</td>\n",
              "    </tr>\n",
              "    <tr>\n",
              "      <th>10870</th>\n",
              "      <td>እንስራ ው ተ ሸነቆረ</td>\n",
              "      <td>data/train/wav/tr_10871_tr09145.wav</td>\n",
              "    </tr>\n",
              "    <tr>\n",
              "      <th>10871</th>\n",
              "      <td>ቤዛ ጐረ መሰ መሰለኝ ትእዛዝ አል ቀበል ም አለ</td>\n",
              "      <td>data/train/wav/tr_10872_tr09146.wav</td>\n",
              "    </tr>\n",
              "    <tr>\n",
              "      <th>10872</th>\n",
              "      <td>በለጠ ች የ በየነ የ በኩር ልጅ ነች</td>\n",
              "      <td>data/train/wav/tr_10873_tr09147.wav</td>\n",
              "    </tr>\n",
              "    <tr>\n",
              "      <th>10873</th>\n",
              "      <td>እንዲያ መሬት አይ ን ካ ኝ ይል የነበረ ሰው በ ድንገት ቆረቆዘ አይደል</td>\n",
              "      <td>data/train/wav/tr_10874_tr09148.wav</td>\n",
              "    </tr>\n",
              "    <tr>\n",
              "      <th>10874</th>\n",
              "      <td>እጀ ጐልዳ ፋው ሰው ዬ መጻፍ አይችልም</td>\n",
              "      <td>data/train/wav/tr_10875_tr09149.wav</td>\n",
              "    </tr>\n",
              "  </tbody>\n",
              "</table>\n",
              "<p>10875 rows × 2 columns</p>\n",
              "</div>\n",
              "      <button class=\"colab-df-convert\" onclick=\"convertToInteractive('df-683eaba7-d381-4632-8d1e-586e40611a7e')\"\n",
              "              title=\"Convert this dataframe to an interactive table.\"\n",
              "              style=\"display:none;\">\n",
              "        \n",
              "  <svg xmlns=\"http://www.w3.org/2000/svg\" height=\"24px\"viewBox=\"0 0 24 24\"\n",
              "       width=\"24px\">\n",
              "    <path d=\"M0 0h24v24H0V0z\" fill=\"none\"/>\n",
              "    <path d=\"M18.56 5.44l.94 2.06.94-2.06 2.06-.94-2.06-.94-.94-2.06-.94 2.06-2.06.94zm-11 1L8.5 8.5l.94-2.06 2.06-.94-2.06-.94L8.5 2.5l-.94 2.06-2.06.94zm10 10l.94 2.06.94-2.06 2.06-.94-2.06-.94-.94-2.06-.94 2.06-2.06.94z\"/><path d=\"M17.41 7.96l-1.37-1.37c-.4-.4-.92-.59-1.43-.59-.52 0-1.04.2-1.43.59L10.3 9.45l-7.72 7.72c-.78.78-.78 2.05 0 2.83L4 21.41c.39.39.9.59 1.41.59.51 0 1.02-.2 1.41-.59l7.78-7.78 2.81-2.81c.8-.78.8-2.07 0-2.86zM5.41 20L4 18.59l7.72-7.72 1.47 1.35L5.41 20z\"/>\n",
              "  </svg>\n",
              "      </button>\n",
              "      \n",
              "  <style>\n",
              "    .colab-df-container {\n",
              "      display:flex;\n",
              "      flex-wrap:wrap;\n",
              "      gap: 12px;\n",
              "    }\n",
              "\n",
              "    .colab-df-convert {\n",
              "      background-color: #E8F0FE;\n",
              "      border: none;\n",
              "      border-radius: 50%;\n",
              "      cursor: pointer;\n",
              "      display: none;\n",
              "      fill: #1967D2;\n",
              "      height: 32px;\n",
              "      padding: 0 0 0 0;\n",
              "      width: 32px;\n",
              "    }\n",
              "\n",
              "    .colab-df-convert:hover {\n",
              "      background-color: #E2EBFA;\n",
              "      box-shadow: 0px 1px 2px rgba(60, 64, 67, 0.3), 0px 1px 3px 1px rgba(60, 64, 67, 0.15);\n",
              "      fill: #174EA6;\n",
              "    }\n",
              "\n",
              "    [theme=dark] .colab-df-convert {\n",
              "      background-color: #3B4455;\n",
              "      fill: #D2E3FC;\n",
              "    }\n",
              "\n",
              "    [theme=dark] .colab-df-convert:hover {\n",
              "      background-color: #434B5C;\n",
              "      box-shadow: 0px 1px 3px 1px rgba(0, 0, 0, 0.15);\n",
              "      filter: drop-shadow(0px 1px 2px rgba(0, 0, 0, 0.3));\n",
              "      fill: #FFFFFF;\n",
              "    }\n",
              "  </style>\n",
              "\n",
              "      <script>\n",
              "        const buttonEl =\n",
              "          document.querySelector('#df-683eaba7-d381-4632-8d1e-586e40611a7e button.colab-df-convert');\n",
              "        buttonEl.style.display =\n",
              "          google.colab.kernel.accessAllowed ? 'block' : 'none';\n",
              "\n",
              "        async function convertToInteractive(key) {\n",
              "          const element = document.querySelector('#df-683eaba7-d381-4632-8d1e-586e40611a7e');\n",
              "          const dataTable =\n",
              "            await google.colab.kernel.invokeFunction('convertToInteractive',\n",
              "                                                     [key], {});\n",
              "          if (!dataTable) return;\n",
              "\n",
              "          const docLinkHtml = 'Like what you see? Visit the ' +\n",
              "            '<a target=\"_blank\" href=https://colab.research.google.com/notebooks/data_table.ipynb>data table notebook</a>'\n",
              "            + ' to learn more about interactive tables.';\n",
              "          element.innerHTML = '';\n",
              "          dataTable['output_type'] = 'display_data';\n",
              "          await google.colab.output.renderOutput(dataTable, element);\n",
              "          const docLink = document.createElement('div');\n",
              "          docLink.innerHTML = docLinkHtml;\n",
              "          element.appendChild(docLink);\n",
              "        }\n",
              "      </script>\n",
              "    </div>\n",
              "  </div>\n",
              "  "
            ]
          },
          "metadata": {},
          "execution_count": 4
        }
      ]
    },
    {
      "cell_type": "code",
      "source": [
        "import json\n",
        "import pathlib\n",
        "import sys\n",
        "import os\n",
        "import glob\n",
        "import pandas as pd\n",
        "\n",
        "class DataLoader:\n",
        "    def __init__(self, data_dir, sample_rate=44100, max_duration=10.0,\n",
        "                 max_samples=None, max_files=None, verbose=True):\n",
        "        \"\"\"Load audio data from a directory.\"\"\"\n",
        "        try:\n",
        "            self.data_dir = data_dir\n",
        "            self.sample_rate = sample_rate\n",
        "            self.max_duration = max_duration\n",
        "        except Exception as e:\n",
        "            sys.exit(1)\n",
        "\n",
        "    def load_audios(self, mono: bool, no_of_audios: int = 100) -> tuple:\n",
        "        \"\"\"Load the audio files from a folder.\n",
        "\n",
        "        Args:\n",
        "            mono (bool): whether to load the audio as mono or not\n",
        "            no_of_audios (int): Number of files to load\n",
        "\n",
        "        Returns:\n",
        "            tuple: Dictionary of sampled audios and Maximum duration of audios\n",
        "        \"\"\"\n",
        "        try:\n",
        "            audio_data = {}\n",
        "            max_duration = 0\n",
        "            for i, file in enumerate(os.listdir(self.data_dir)):\n",
        "                if i > no_of_audios:\n",
        "                    break\n",
        "                sampled_audio, sample_rate = librosa.load(\n",
        "                    self.data_dir+file, sr=self.sample_rate, mono=mono)\n",
        "                max_duration = max(len(sampled_audio) /\n",
        "                                   sample_rate, max_duration)\n",
        "                audio_data[file.split('.')[0]] = sampled_audio\n",
        "\n",
        "            return audio_data, max_duration\n",
        "        except Exception as e:\n",
        "            sys.exit(1)\n",
        "\n",
        "    def get_wav_files(self) -> list:\n",
        "        \"\"\"Get the wav files from a folder.\n",
        "\n",
        "        Args:\n",
        "            path (str): Path to the folder\n",
        "\n",
        "        Returns:\n",
        "            list: List of wav files\n",
        "        \"\"\"\n",
        "      # try:\n",
        "        path = self.data_dir\n",
        "        # print(path)\n",
        "        path = path + '*.wav'\n",
        "        wav_files = glob.glob(path)\n",
        "        return wav_files\n",
        "        # except Exception as e:\n",
        "        #     sys.exit(1)\n",
        "\n",
        "    def load_transcription(self, file_path: str, dest_path: str, save=False) -> dict:\n",
        "        \"\"\"Load transcription data\"\"\"\n",
        "\n",
        "        audio_path = []\n",
        "        text = []\n",
        "        duration = []\n",
        "      # try:\n",
        "        with open(file_path) as fp:\n",
        "            Lines = fp.readlines()\n",
        "            for line in Lines:\n",
        "                valid_json = {}\n",
        "                # val = line.split(' ')[1:]\n",
        "                # val = ' '.join(val)\n",
        "                # # Remove any new line character\n",
        "                # val = val.replace(\"\\n\", \"\").strip()\n",
        "                # path = line.split(' ')[0]\n",
        "                name=line.split(\"</s>\")[1]\n",
        "                name=name.replace('(', '')\n",
        "                name=name.replace(')', '')\n",
        "                name=name.replace('\\n','')\n",
        "                name=name.replace(' ','')\n",
        "                path=line.split(\"</s>\")[0]\n",
        "                trans=path.replace(\"<s>\",\"\")\n",
        "                \n",
        "                # print(pathlib.Path().resolve())\n",
        "                path = 'wav/' + name + '.wav'\n",
        "                audios = self.get_wav_files()\n",
        "                # if name not in audios:\n",
        "                #     continue\n",
        "\n",
        "                audio_path.append(path)\n",
        "                text.append(trans)\n",
        "                duration.append(librosa.get_duration(filename=path))\n",
        "                valid_json['text'] = trans\n",
        "                valid_json['key'] = path\n",
        "                # GEt the duration of the audio file\n",
        "                valid_json['duration'] = librosa.get_duration(\n",
        "                    filename=path)\n",
        "                if save:\n",
        "                    with open(dest_path, 'a', encoding='utf-8') as fp:\n",
        "                        fp.write(json.dumps(\n",
        "                            valid_json, ensure_ascii=False))\n",
        "                        fp.write(\"\\n\")\n",
        "        return audio_path, text, duration\n",
        "      # except Exception as e:\n",
        "      #     sys.exit(1)\n",
        "\n",
        "    def generate_meta_data(self, path, dest_path):\n",
        "        \"\"\"Generate meta data csv\"\"\"\n",
        "\n",
        "      # try:\n",
        "        audio_path, text, duration = self.load_transcription(\n",
        "            path, dest_path)\n",
        "        data = pd.DataFrame(\n",
        "            {'key': audio_path, 'text': text, 'duration': duration})\n",
        "        data.to_csv(dest_path, index=False)\n",
        "      # except Exception as e:\n",
        "        \n",
        "\n",
        "    def read_csv(self, csv_file) -> pd.DataFrame:\n",
        "        \"\"\"Csv file reader to open and read csv files into a panda dataframe.\n",
        "        Args:\n",
        "        -----\n",
        "        csv_file: str - path of a json file\n",
        "\n",
        "        Returns\n",
        "        -------\n",
        "        dataframe containing data extracted from the csv file\"\"\"\n",
        "        return pd.read_csv(csv_file)\n"
      ],
      "metadata": {
        "id": "GjM0O0TRkEQE"
      },
      "execution_count": null,
      "outputs": []
    },
    {
      "cell_type": "code",
      "source": [
        "data = DataLoader('../data/AMHARIC/data/test/wav')"
      ],
      "metadata": {
        "id": "q3sPCxiumf1i"
      },
      "execution_count": null,
      "outputs": []
    },
    {
      "cell_type": "code",
      "source": [
        "data.load_transcription('trsTest.txt', dest_path = 'valid_corpus.json', save=True )"
      ],
      "metadata": {
        "id": "uyq4MoHrnJ3L"
      },
      "execution_count": null,
      "outputs": []
    },
    {
      "cell_type": "code",
      "source": [
        "!pwd\n",
        "!ls"
      ],
      "metadata": {
        "colab": {
          "base_uri": "https://localhost:8080/"
        },
        "id": "VNsuiDfdoaWt",
        "outputId": "6fdd1c89-4c9f-4a7d-e5d1-42ece42673a7"
      },
      "execution_count": null,
      "outputs": [
        {
          "output_type": "stream",
          "name": "stdout",
          "text": [
            "/content/drive/MyDrive/data/AMHARIC/data/test\n",
            "spk2utt  text  trsTest.txt  utt2spk  valid_corpus.json\twav  wav.scp\n"
          ]
        }
      ]
    },
    {
      "cell_type": "code",
      "source": [
        "cd test\n"
      ],
      "metadata": {
        "colab": {
          "base_uri": "https://localhost:8080/"
        },
        "id": "U75OY99ADQd5",
        "outputId": "69f4b67e-f9c6-434a-eb0f-078f2e8be760"
      },
      "execution_count": null,
      "outputs": [
        {
          "output_type": "stream",
          "name": "stdout",
          "text": [
            "/content/drive/MyDrive/data/AMHARIC/data/test\n"
          ]
        }
      ]
    },
    {
      "cell_type": "code",
      "source": [
        "%tb"
      ],
      "metadata": {
        "colab": {
          "base_uri": "https://localhost:8080/",
          "height": 432
        },
        "id": "cThrdjPooLeZ",
        "outputId": "7fbe9a04-df98-441f-dfb3-1dced4d55b2e"
      },
      "execution_count": null,
      "outputs": [
        {
          "output_type": "error",
          "ename": "SystemExit",
          "evalue": "ignored",
          "traceback": [
            "\u001b[0;31m---------------------------------------------------------------------------\u001b[0m",
            "\u001b[0;31mTypeError\u001b[0m                                 Traceback (most recent call last)",
            "\u001b[0;32m<ipython-input-48-173acecf6a6f>\u001b[0m in \u001b[0;36mget_wav_files\u001b[0;34m(self)\u001b[0m\n\u001b[1;32m     56\u001b[0m             \u001b[0mpath\u001b[0m \u001b[0;34m=\u001b[0m \u001b[0mpath\u001b[0m \u001b[0;34m+\u001b[0m \u001b[0;34m'*.wav'\u001b[0m\u001b[0;34m\u001b[0m\u001b[0;34m\u001b[0m\u001b[0m\n\u001b[0;32m---> 57\u001b[0;31m             \u001b[0mwav_files\u001b[0m \u001b[0;34m=\u001b[0m \u001b[0mglob\u001b[0m\u001b[0;34m(\u001b[0m\u001b[0mpath\u001b[0m\u001b[0;34m)\u001b[0m\u001b[0;34m\u001b[0m\u001b[0;34m\u001b[0m\u001b[0m\n\u001b[0m\u001b[1;32m     58\u001b[0m             \u001b[0;32mreturn\u001b[0m \u001b[0mwav_files\u001b[0m\u001b[0;34m\u001b[0m\u001b[0;34m\u001b[0m\u001b[0m\n",
            "\u001b[0;31mTypeError\u001b[0m: 'module' object is not callable",
            "\nDuring handling of the above exception, another exception occurred:\n",
            "\u001b[0;31mSystemExit\u001b[0m                                Traceback (most recent call last)",
            "\u001b[0;32m<ipython-input-50-32765af82ebf>\u001b[0m in \u001b[0;36m<module>\u001b[0;34m()\u001b[0m\n\u001b[0;32m----> 1\u001b[0;31m \u001b[0mdata\u001b[0m\u001b[0;34m.\u001b[0m\u001b[0mload_transcription\u001b[0m\u001b[0;34m(\u001b[0m\u001b[0;34m'data/train/trsTrain.txt'\u001b[0m\u001b[0;34m,\u001b[0m \u001b[0;34m''\u001b[0m\u001b[0;34m,\u001b[0m \u001b[0msave\u001b[0m\u001b[0;34m=\u001b[0m\u001b[0;32mTrue\u001b[0m \u001b[0;34m)\u001b[0m\u001b[0;34m\u001b[0m\u001b[0;34m\u001b[0m\u001b[0m\n\u001b[0m",
            "\u001b[0;32m<ipython-input-48-173acecf6a6f>\u001b[0m in \u001b[0;36mload_transcription\u001b[0;34m(self, file_path, dest_path, save)\u001b[0m\n\u001b[1;32m     79\u001b[0m                     \u001b[0mprint\u001b[0m\u001b[0;34m(\u001b[0m\u001b[0mpathlib\u001b[0m\u001b[0;34m.\u001b[0m\u001b[0mPath\u001b[0m\u001b[0;34m(\u001b[0m\u001b[0;34m)\u001b[0m\u001b[0;34m.\u001b[0m\u001b[0mresolve\u001b[0m\u001b[0;34m(\u001b[0m\u001b[0;34m)\u001b[0m\u001b[0;34m)\u001b[0m\u001b[0;34m\u001b[0m\u001b[0;34m\u001b[0m\u001b[0m\n\u001b[1;32m     80\u001b[0m                     \u001b[0mpath\u001b[0m \u001b[0;34m=\u001b[0m \u001b[0;34m'..data/train/wav/'\u001b[0m \u001b[0;34m+\u001b[0m \u001b[0mpath\u001b[0m \u001b[0;34m+\u001b[0m \u001b[0;34m'.wav'\u001b[0m\u001b[0;34m\u001b[0m\u001b[0;34m\u001b[0m\u001b[0m\n\u001b[0;32m---> 81\u001b[0;31m                     \u001b[0maudios\u001b[0m \u001b[0;34m=\u001b[0m \u001b[0mself\u001b[0m\u001b[0;34m.\u001b[0m\u001b[0mget_wav_files\u001b[0m\u001b[0;34m(\u001b[0m\u001b[0;34m)\u001b[0m\u001b[0;34m\u001b[0m\u001b[0;34m\u001b[0m\u001b[0m\n\u001b[0m\u001b[1;32m     82\u001b[0m                     \u001b[0;32mif\u001b[0m \u001b[0mpath\u001b[0m \u001b[0;32mnot\u001b[0m \u001b[0;32min\u001b[0m \u001b[0maudios\u001b[0m\u001b[0;34m:\u001b[0m\u001b[0;34m\u001b[0m\u001b[0;34m\u001b[0m\u001b[0m\n\u001b[1;32m     83\u001b[0m                         \u001b[0;32mcontinue\u001b[0m\u001b[0;34m\u001b[0m\u001b[0;34m\u001b[0m\u001b[0m\n",
            "\u001b[0;32m<ipython-input-48-173acecf6a6f>\u001b[0m in \u001b[0;36mget_wav_files\u001b[0;34m(self)\u001b[0m\n\u001b[1;32m     58\u001b[0m             \u001b[0;32mreturn\u001b[0m \u001b[0mwav_files\u001b[0m\u001b[0;34m\u001b[0m\u001b[0;34m\u001b[0m\u001b[0m\n\u001b[1;32m     59\u001b[0m         \u001b[0;32mexcept\u001b[0m \u001b[0mException\u001b[0m \u001b[0;32mas\u001b[0m \u001b[0me\u001b[0m\u001b[0;34m:\u001b[0m\u001b[0;34m\u001b[0m\u001b[0;34m\u001b[0m\u001b[0m\n\u001b[0;32m---> 60\u001b[0;31m             \u001b[0msys\u001b[0m\u001b[0;34m.\u001b[0m\u001b[0mexit\u001b[0m\u001b[0;34m(\u001b[0m\u001b[0;36m1\u001b[0m\u001b[0;34m)\u001b[0m\u001b[0;34m\u001b[0m\u001b[0;34m\u001b[0m\u001b[0m\n\u001b[0m\u001b[1;32m     61\u001b[0m \u001b[0;34m\u001b[0m\u001b[0m\n\u001b[1;32m     62\u001b[0m     \u001b[0;32mdef\u001b[0m \u001b[0mload_transcription\u001b[0m\u001b[0;34m(\u001b[0m\u001b[0mself\u001b[0m\u001b[0;34m,\u001b[0m \u001b[0mfile_path\u001b[0m\u001b[0;34m:\u001b[0m \u001b[0mstr\u001b[0m\u001b[0;34m,\u001b[0m \u001b[0mdest_path\u001b[0m\u001b[0;34m:\u001b[0m \u001b[0mstr\u001b[0m\u001b[0;34m,\u001b[0m \u001b[0msave\u001b[0m\u001b[0;34m=\u001b[0m\u001b[0;32mFalse\u001b[0m\u001b[0;34m)\u001b[0m \u001b[0;34m->\u001b[0m \u001b[0mdict\u001b[0m\u001b[0;34m:\u001b[0m\u001b[0;34m\u001b[0m\u001b[0;34m\u001b[0m\u001b[0m\n",
            "\u001b[0;31mSystemExit\u001b[0m: 1"
          ]
        }
      ]
    },
    {
      "cell_type": "code",
      "source": [
        ""
      ],
      "metadata": {
        "id": "5EfDYFjhoM76"
      },
      "execution_count": null,
      "outputs": []
    }
  ]
}