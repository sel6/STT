{
 "cells": [
  {
   "cell_type": "markdown",
   "metadata": {},
   "source": [
    "Autoreload notebook"
   ]
  },
  {
   "cell_type": "code",
   "execution_count": 65,
   "metadata": {},
   "outputs": [
    {
     "name": "stdout",
     "output_type": "stream",
     "text": [
      "The autoreload extension is already loaded. To reload it, use:\n",
      "  %reload_ext autoreload\n"
     ]
    }
   ],
   "source": [
    "%load_ext autoreload\n",
    "%autoreload 2"
   ]
  },
  {
   "cell_type": "markdown",
   "metadata": {},
   "source": [
    ">> ### Import required Libraries"
   ]
  },
  {
   "cell_type": "code",
   "execution_count": 1,
   "metadata": {},
   "outputs": [],
   "source": [
    "# Import packages\n",
    "\n",
    "import pandas as pd\n",
    "import numpy as np\n",
    "import random\n",
    "import os\n",
    "import sys\n",
    "\n",
    "#notebook reproducible \n",
    "np.random.seed(42)\n",
    "random.seed(42)\n",
    "\n",
    "# Directory listing\n",
    "from glob import glob\n",
    "\n",
    "# Visualization\n",
    "import matplotlib.pylab as plt\n",
    "import seaborn as sns\n",
    "\n",
    "# Audio Processing\n",
    "import librosa\n",
    "import librosa.display\n",
    "import IPython.display as ipd\n",
    "from pydub import AudioSegment\n",
    "\n",
    "# Color Palettes\n",
    "\n",
    "from itertools import cycle\n",
    "\n",
    "sns.set_theme(style=\"white\", palette=None)\n",
    "color_pal = plt.rcParams['axes.prop_cycle'].by_key()['color']\n",
    "color_cycle = cycle(plt.rcParams['axes.prop_cycle'].by_key()['color'])"
   ]
  },
  {
   "cell_type": "markdown",
   "metadata": {},
   "source": [
    ">> #### Import modules"
   ]
  },
  {
   "cell_type": "code",
   "execution_count": 7,
   "metadata": {},
   "outputs": [],
   "source": [
    "sys.path.append(os.path.abspath(os.path.join('../scripts')))\n",
    "from data_preprocessing import AudioUtil\n",
    "from data_loader import DataLoader\n",
    "from model import STTModel"
   ]
  },
  {
   "cell_type": "markdown",
   "metadata": {},
   "source": [
    "Initialize scripts"
   ]
  },
  {
   "cell_type": "code",
   "execution_count": 8,
   "metadata": {},
   "outputs": [],
   "source": [
    "DATA_DIR = '../data/'"
   ]
  },
  {
   "cell_type": "code",
   "execution_count": 66,
   "metadata": {},
   "outputs": [],
   "source": [
    "loader = DataLoader(data_dir='../data/data/', sample_rate=16000, max_duration=10.0)"
   ]
  },
  {
   "cell_type": "code",
   "execution_count": 61,
   "metadata": {},
   "outputs": [],
   "source": [
    "prep = AudioUtil()"
   ]
  },
  {
   "cell_type": "code",
   "execution_count": 118,
   "metadata": {},
   "outputs": [],
   "source": [
    "model = STTModel(loader)"
   ]
  },
  {
   "cell_type": "markdown",
   "metadata": {},
   "source": [
    "Load MetaData"
   ]
  },
  {
   "cell_type": "code",
   "execution_count": 32,
   "metadata": {},
   "outputs": [],
   "source": [
    "train_data = loader.read_csv('../data/metadata.csv')"
   ]
  },
  {
   "cell_type": "code",
   "execution_count": 33,
   "metadata": {},
   "outputs": [
    {
     "data": {
      "text/html": [
       "<div>\n",
       "<style scoped>\n",
       "    .dataframe tbody tr th:only-of-type {\n",
       "        vertical-align: middle;\n",
       "    }\n",
       "\n",
       "    .dataframe tbody tr th {\n",
       "        vertical-align: top;\n",
       "    }\n",
       "\n",
       "    .dataframe thead th {\n",
       "        text-align: right;\n",
       "    }\n",
       "</style>\n",
       "<table border=\"1\" class=\"dataframe\">\n",
       "  <thead>\n",
       "    <tr style=\"text-align: right;\">\n",
       "      <th></th>\n",
       "      <th>key</th>\n",
       "      <th>text</th>\n",
       "      <th>duration</th>\n",
       "    </tr>\n",
       "  </thead>\n",
       "  <tbody>\n",
       "    <tr>\n",
       "      <th>0</th>\n",
       "      <td>../data/AMHARIC/data/train/wav/tr_10000_tr0970...</td>\n",
       "      <td>የተለያዩ የ ትግራይ አውራጃ ተወላጆች ገንዘባቸው ን አዋጥ ተው የ ልማት ...</td>\n",
       "      <td>9.088</td>\n",
       "    </tr>\n",
       "    <tr>\n",
       "      <th>1</th>\n",
       "      <td>../data/AMHARIC/data/train/wav/tr_10001_tr0970...</td>\n",
       "      <td>የ ጠመንጃ ተኩስ ተከፈተ ና አራት የኤርትራ ወታደሮች ተገደሉ</td>\n",
       "      <td>5.632</td>\n",
       "    </tr>\n",
       "    <tr>\n",
       "      <th>2</th>\n",
       "      <td>../data/AMHARIC/data/train/wav/tr_10002_tr0970...</td>\n",
       "      <td>ላነሷቸው ጥያቄዎች የ ሰጡት ን መልስ አቅርበ ነዋል</td>\n",
       "      <td>6.144</td>\n",
       "    </tr>\n",
       "    <tr>\n",
       "      <th>3</th>\n",
       "      <td>../data/AMHARIC/data/train/wav/tr_10003_tr0970...</td>\n",
       "      <td>እ ብዱ አስፋልቱ ላይ የ ኰለኰ ለ ው ድንጋይ መኪና አላ ሳልፍ አለ</td>\n",
       "      <td>5.760</td>\n",
       "    </tr>\n",
       "    <tr>\n",
       "      <th>4</th>\n",
       "      <td>../data/AMHARIC/data/train/wav/tr_10004_tr0970...</td>\n",
       "      <td>ጠጁ ን ኰ መኰ መ ኰ መኰ መ ና ሚስቱ ን ሲ ያሰቃ ያት አደረ</td>\n",
       "      <td>5.376</td>\n",
       "    </tr>\n",
       "  </tbody>\n",
       "</table>\n",
       "</div>"
      ],
      "text/plain": [
       "                                                 key  \\\n",
       "0  ../data/AMHARIC/data/train/wav/tr_10000_tr0970...   \n",
       "1  ../data/AMHARIC/data/train/wav/tr_10001_tr0970...   \n",
       "2  ../data/AMHARIC/data/train/wav/tr_10002_tr0970...   \n",
       "3  ../data/AMHARIC/data/train/wav/tr_10003_tr0970...   \n",
       "4  ../data/AMHARIC/data/train/wav/tr_10004_tr0970...   \n",
       "\n",
       "                                                text  duration  \n",
       "0  የተለያዩ የ ትግራይ አውራጃ ተወላጆች ገንዘባቸው ን አዋጥ ተው የ ልማት ...     9.088  \n",
       "1             የ ጠመንጃ ተኩስ ተከፈተ ና አራት የኤርትራ ወታደሮች ተገደሉ     5.632  \n",
       "2                   ላነሷቸው ጥያቄዎች የ ሰጡት ን መልስ አቅርበ ነዋል     6.144  \n",
       "3         እ ብዱ አስፋልቱ ላይ የ ኰለኰ ለ ው ድንጋይ መኪና አላ ሳልፍ አለ     5.760  \n",
       "4            ጠጁ ን ኰ መኰ መ ኰ መኰ መ ና ሚስቱ ን ሲ ያሰቃ ያት አደረ     5.376  "
      ]
     },
     "execution_count": 33,
     "metadata": {},
     "output_type": "execute_result"
    }
   ],
   "source": [
    "train_data.head()"
   ]
  },
  {
   "cell_type": "code",
   "execution_count": 34,
   "metadata": {},
   "outputs": [],
   "source": [
    "audio_paths = train_data['key']"
   ]
  },
  {
   "cell_type": "code",
   "execution_count": 35,
   "metadata": {},
   "outputs": [],
   "source": [
    "audio_paths = audio_paths.to_list()"
   ]
  },
  {
   "cell_type": "code",
   "execution_count": 36,
   "metadata": {},
   "outputs": [],
   "source": [
    "AUDIO_LEN = train_data['key'].shape[0]"
   ]
  },
  {
   "cell_type": "code",
   "execution_count": 37,
   "metadata": {},
   "outputs": [],
   "source": [
    "# Load json data\n",
    "train_json = \"../data/train.json\""
   ]
  },
  {
   "cell_type": "code",
   "execution_count": 38,
   "metadata": {},
   "outputs": [],
   "source": [
    "data_est = prep.mean_est(AUDIO_LEN, audio_paths)"
   ]
  },
  {
   "cell_type": "code",
   "execution_count": 119,
   "metadata": {},
   "outputs": [
    {
     "name": "stdout",
     "output_type": "stream",
     "text": [
      "Model: \"model_39\"\n",
      "_________________________________________________________________\n",
      " Layer (type)                Output Shape              Param #   \n",
      "=================================================================\n",
      " the_input (InputLayer)      [(None, None, 13)]        0         \n",
      "                                                                 \n",
      " layer_1_conv (Conv1D)       (None, None, 200)         28800     \n",
      "                                                                 \n",
      " conv_batch_norm (BatchNorma  (None, None, 200)        800       \n",
      " lization)                                                       \n",
      "                                                                 \n",
      " rnn_1 (GRU)                 (None, None, 250)         339000    \n",
      "                                                                 \n",
      " bt_rnn_1 (BatchNormalizatio  (None, None, 250)        1000      \n",
      " n)                                                              \n",
      "                                                                 \n",
      " rnn_2 (GRU)                 (None, None, 250)         376500    \n",
      "                                                                 \n",
      " bt_rnn_2 (BatchNormalizatio  (None, None, 250)        1000      \n",
      " n)                                                              \n",
      "                                                                 \n",
      " rnn_3 (GRU)                 (None, None, 250)         376500    \n",
      "                                                                 \n",
      " bt_rnn_3 (BatchNormalizatio  (None, None, 250)        1000      \n",
      " n)                                                              \n",
      "                                                                 \n",
      " rnn_4 (GRU)                 (None, None, 250)         376500    \n",
      "                                                                 \n",
      " bt_rnn_4 (BatchNormalizatio  (None, None, 250)        1000      \n",
      " n)                                                              \n",
      "                                                                 \n",
      " final_layer_of_rnn (GRU)    (None, None, 250)         376500    \n",
      "                                                                 \n",
      " bt_rnn_final (BatchNormaliz  (None, None, 250)        1000      \n",
      " ation)                                                          \n",
      "                                                                 \n",
      " time_distributed_18 (TimeDi  (None, None, 224)        56224     \n",
      " stributed)                                                      \n",
      "                                                                 \n",
      " softmax (Activation)        (None, None, 224)         0         \n",
      "                                                                 \n",
      "=================================================================\n",
      "Total params: 1,935,824\n",
      "Trainable params: 1,932,924\n",
      "Non-trainable params: 2,900\n",
      "_________________________________________________________________\n",
      "None\n"
     ]
    }
   ],
   "source": [
    "# Training\n",
    "# from src.train import train\n",
    "# from src.models import model_2\n",
    "# from src.char_map import char_map, index_map\n",
    "\n",
    "\n",
    "\n",
    "EPOCHS = 40\n",
    "MODEL_NAME = \"model_2\"\n",
    "MINI_BATCH_SIZE = 250\n",
    "# input_dim=13,\n",
    "#                 filters=200,\n",
    "#                 kernel_size=11, \n",
    "#                 conv_stride=2,\n",
    "#                 conv_border_mode='valid',\n",
    "#                 units=250,\n",
    "#                 activation='relu',\n",
    "#                 dropout_rate=1,\n",
    "#                 number_of_layers=5,\n",
    "#                 output_dim=len(char_map)+1\n",
    "char_map, _ = loader.map_index()\n",
    "model_tr = model.model(input_dim=13,\n",
    "                filters=200,\n",
    "                kernel_size=11, \n",
    "                conv_stride=2,\n",
    "                conv_border_mode='valid',\n",
    "                units=250,\n",
    "                activation='relu',\n",
    "                dropout_rate=0.2,\n",
    "                number_of_layers=5,\n",
    "                output_dim=len(char_map)+1)"
   ]
  },
  {
   "cell_type": "code",
   "execution_count": 120,
   "metadata": {},
   "outputs": [
    {
     "name": "stdout",
     "output_type": "stream",
     "text": [
      "the shape of the features is:  100\n",
      "First one sample is:  [[16.48025134 -7.29267008  2.70881331 ...  3.21228454  2.26029197\n",
      "   1.14607319]\n",
      " [15.51330106  3.68151116 21.16174352 ...  4.33809444  5.41812124\n",
      "   1.70194754]\n",
      " [15.50275689  3.30036992 21.75593785 ...  1.42770988  6.47290421\n",
      "   2.80015671]\n",
      " ...\n",
      " [15.45351174  3.3376891  19.44328789 ...  2.04839206  2.38379533\n",
      "   4.20881466]\n",
      " [15.48023503  3.86178501 18.38389025 ...  4.07211     4.06424513\n",
      "   7.41911657]\n",
      " [15.16704021  4.47106555 18.018563   ...  4.67307592  4.59965818\n",
      "   9.04049016]]\n",
      "Epoch 1/40\n"
     ]
    }
   ],
   "source": [
    "model.train(audio_paths, input_to_softmax=model_tr, model_name=MODEL_NAME, epochs=EPOCHS, minibatch_size=MINI_BATCH_SIZE)"
   ]
  },
  {
   "cell_type": "markdown",
   "metadata": {},
   "source": []
  },
  {
   "cell_type": "markdown",
   "metadata": {},
   "source": []
  }
 ],
 "metadata": {
  "interpreter": {
   "hash": "75f376effe886d8b51843b632a4b92665fc33b9300797299f553ce70034dd324"
  },
  "kernelspec": {
   "display_name": "Python 3.9.7 ('base')",
   "language": "python",
   "name": "python3"
  },
  "language_info": {
   "codemirror_mode": {
    "name": "ipython",
    "version": 3
   },
   "file_extension": ".py",
   "mimetype": "text/x-python",
   "name": "python",
   "nbconvert_exporter": "python",
   "pygments_lexer": "ipython3",
   "version": "3.9.7"
  },
  "orig_nbformat": 4
 },
 "nbformat": 4,
 "nbformat_minor": 2
}
