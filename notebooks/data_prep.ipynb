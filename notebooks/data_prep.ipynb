{
 "cells": [
  {
   "cell_type": "code",
   "execution_count": 1,
   "metadata": {},
   "outputs": [],
   "source": [
    "import os\n",
    "import sys\n",
    "sys.path.append(os.path.abspath(os.path.join('../scripts')))\n",
    "\n",
    "import IPython.display as ipd\n",
    "import matplotlib.pyplot as plt\n",
    "import numpy as np\n",
    "import os\n",
    "import pandas as pd\n",
    "from collections import Counter\n",
    "\n",
    "import librosa   #for audio processing\n",
    "import librosa.display\n",
    "# import tensorflow as tf\n"
   ]
  },
  {
   "cell_type": "code",
   "execution_count": 2,
   "metadata": {},
   "outputs": [],
   "source": [
    "from data_loader import DataLoader\n"
   ]
  },
  {
   "cell_type": "code",
   "execution_count": 5,
   "metadata": {},
   "outputs": [],
   "source": [
    "train_path = \"/home/teddy/dev/learning/10 academy/working/week4/ALFFA_PUBLIC/ASR/AMHARIC/data/train/\"\n",
    "test_path = \"/home/teddy/dev/learning/10 academy/working/week4/ALFFA_PUBLIC/ASR/AMHARIC/data/test/\"\n",
    "\n",
    "\n",
    "train_audio_folder  = train_path + \"/wav/\"\n",
    "train_script_file = train_path + \"trsTrain.txt\"\n",
    "sample_rate = 32000\n",
    "\n",
    "test_audio_folder  = test_path + \"/wav/\"\n",
    "test_script_file = test_path + \"trsTest.txt\""
   ]
  },
  {
   "cell_type": "code",
   "execution_count": 6,
   "metadata": {},
   "outputs": [],
   "source": [
    "data_loader = DataLoader(train_audio_folder, train_script_file, sr=sample_rate)"
   ]
  },
  {
   "cell_type": "code",
   "execution_count": 7,
   "metadata": {},
   "outputs": [],
   "source": [
    "translation_obj = data_loader.extract_transcription_and_labels()\n",
    "audio_dict = data_loader.extract_audio(5000)"
   ]
  },
  {
   "cell_type": "code",
   "execution_count": 8,
   "metadata": {},
   "outputs": [],
   "source": [
    "meta_data = data_loader.create_meta_data(translation_obj, audio_dict)"
   ]
  },
  {
   "cell_type": "markdown",
   "metadata": {},
   "source": [
    "Serialize metadata for modeling"
   ]
  },
  {
   "cell_type": "code",
   "execution_count": 9,
   "metadata": {},
   "outputs": [],
   "source": [
    "import utils\n",
    "utils.serialize_obj(\"../data/audio_dict.pkl\", audio_dict)\n",
    "utils.serialize_obj(\"../data/translation_obj.pkl\", translation_obj)\n",
    "\n"
   ]
  },
  {
   "cell_type": "code",
   "execution_count": 10,
   "metadata": {},
   "outputs": [],
   "source": [
    "test_data_loader = DataLoader(test_audio_folder, test_script_file, sr=sample_rate)\n",
    "test_translation_obj = test_data_loader.extract_transcription_and_labels()\n",
    "test_audio_dict = test_data_loader.extract_audio(20)\n",
    "\n",
    "utils.serialize_obj(\"../data/test_audio_dict.pkl\", test_audio_dict)\n",
    "utils.serialize_obj(\"../data/test_translation_dict.pkl\", test_translation_obj)"
   ]
  },
  {
   "cell_type": "markdown",
   "metadata": {},
   "source": [
    "Save metadata"
   ]
  },
  {
   "cell_type": "code",
   "execution_count": 11,
   "metadata": {},
   "outputs": [],
   "source": [
    "meta_data.to_csv(\"../data/meta_data.csv\", index=False)"
   ]
  },
  {
   "cell_type": "code",
   "execution_count": null,
   "metadata": {},
   "outputs": [],
   "source": []
  }
 ],
 "metadata": {
  "interpreter": {
   "hash": "4013b6f8acbae43f7c648f99fd383e8ec3d5fcc3a746a9453def012ca3c2930d"
  },
  "kernelspec": {
   "display_name": "Python 3.9.7 ('base')",
   "language": "python",
   "name": "python3"
  },
  "language_info": {
   "codemirror_mode": {
    "name": "ipython",
    "version": 3
   },
   "file_extension": ".py",
   "mimetype": "text/x-python",
   "name": "python",
   "nbconvert_exporter": "python",
   "pygments_lexer": "ipython3",
   "version": "3.9.7"
  },
  "orig_nbformat": 4
 },
 "nbformat": 4,
 "nbformat_minor": 2
}
