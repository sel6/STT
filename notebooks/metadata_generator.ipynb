{
  "cells": [
    {
      "cell_type": "code",
      "execution_count": 4,
      "metadata": {
        "id": "FTgXq-2HS_ul"
      },
      "outputs": [],
      "source": [
        "import os\n",
        "amharic = \"../data/train/\"\n",
        "os.chdir(amharic)\n",
        "# os.listdir()"
      ]
    },
    {
      "cell_type": "markdown",
      "metadata": {},
      "source": [
        "#### Metadata DVC tag\n",
        "v1-metadata files - data/test.json data/train.json"
      ]
    },
    {
      "cell_type": "code",
      "execution_count": 1,
      "metadata": {
        "id": "AoPA2FTSS_xK"
      },
      "outputs": [],
      "source": [
        "import os\n",
        "import librosa   #for audio processing"
      ]
    },
    {
      "cell_type": "code",
      "execution_count": 2,
      "metadata": {
        "id": "Ci9cT_xeS_0a"
      },
      "outputs": [],
      "source": [
        "def tran_loader(filename):\n",
        "  name_to_text = {}\n",
        "  with open (filename)as f:\n",
        "    f.readline()\n",
        "    for line in f:\n",
        "      name=line.split(\"</s>\")[1]\n",
        "      name=name.replace('(', '')\n",
        "      name=name.replace(')', '')\n",
        "      name=name.replace('\\n','')\n",
        "      name=name.replace(' ','')\n",
        "      text=line.split(\"</s>\")[0]\n",
        "      text=text.replace(\"<s>\",\"\")\n",
        "      name_to_text[name]=text\n",
        "    return name_to_text"
      ]
    },
    {
      "cell_type": "code",
      "execution_count": 3,
      "metadata": {},
      "outputs": [],
      "source": [
        "train_path = '/home/teddy/dev/learning/10 academy/working/week4/ALFFA_PUBLIC/ASR/AMHARIC/data/train'"
      ]
    },
    {
      "cell_type": "code",
      "execution_count": 4,
      "metadata": {
        "id": "5P9GHFw6S_2-"
      },
      "outputs": [],
      "source": [
        "transcription=tran_loader(train_path+\"/trsTrain.txt\")"
      ]
    },
    {
      "cell_type": "code",
      "execution_count": null,
      "metadata": {
        "colab": {
          "base_uri": "https://localhost:8080/"
        },
        "id": "G1ZTecbFS_6K",
        "outputId": "aab49c28-2659-4b3d-f2d4-e30107a6e29a"
      },
      "outputs": [],
      "source": [
        "transcription"
      ]
    },
    {
      "cell_type": "code",
      "execution_count": 6,
      "metadata": {
        "id": "qmHXedyJS_92"
      },
      "outputs": [],
      "source": [
        "def meta_data(trans, path ):\n",
        "  target=[]\n",
        "  features=[]\n",
        "  filenames=[]\n",
        "  duration_of_recordings=[]\n",
        "  for k in trans:\n",
        "    filename=path+k +\".wav\"\n",
        "    filenames.append(filename)\n",
        "    audio, fs = librosa.load(filename, sr=None)\n",
        "    duration_of_recordings.append(float(len(audio)/fs))\n",
        "   \n",
        "    lable = trans[k]\n",
        "    target.append(lable)\n",
        "  return filenames, target,duration_of_recordings\n"
      ]
    },
    {
      "cell_type": "code",
      "execution_count": 7,
      "metadata": {
        "id": "wse8yDdaYSXn"
      },
      "outputs": [],
      "source": [
        "filenames, target,duration_of_recordings= meta_data(transcription,train_path+'/wav/')"
      ]
    },
    {
      "cell_type": "code",
      "execution_count": 20,
      "metadata": {},
      "outputs": [
        {
          "data": {
            "text/plain": [
              "'tr_2_tr01002'"
            ]
          },
          "execution_count": 20,
          "metadata": {},
          "output_type": "execute_result"
        }
      ],
      "source": [
        "list(transcription.keys())[0]"
      ]
    },
    {
      "cell_type": "code",
      "execution_count": 8,
      "metadata": {
        "colab": {
          "base_uri": "https://localhost:8080/"
        },
        "id": "k7iZv_YseAsX",
        "outputId": "290870b5-9696-4531-c6d2-fec13df51838"
      },
      "outputs": [
        {
          "data": {
            "text/plain": [
              "10874"
            ]
          },
          "execution_count": 8,
          "metadata": {},
          "output_type": "execute_result"
        }
      ],
      "source": [
        "len(filenames)"
      ]
    },
    {
      "cell_type": "code",
      "execution_count": 9,
      "metadata": {},
      "outputs": [
        {
          "data": {
            "text/plain": [
              "' የተ ለቀቁት ምርኮኞች በ አካባቢያቸው ሰላማዊ ኑሮ እንዲ ኖሩ የ ትራንስፖርት ና መጓጓዣ ገንዘብ ተሰጥቷ ቸው መሸኘታቸው ን አመልክቶ በ የ ዞ ናቸው እንደ ደረሱ መቃቋሚያ እንደሚ ሰጣቸው ም አስ ታውቋል '"
            ]
          },
          "execution_count": 9,
          "metadata": {},
          "output_type": "execute_result"
        }
      ],
      "source": [
        "target[0]"
      ]
    },
    {
      "cell_type": "code",
      "execution_count": 10,
      "metadata": {},
      "outputs": [
        {
          "data": {
            "text/plain": [
              "'/home/teddy/dev/learning/10 academy/working/week4/ALFFA_PUBLIC/ASR/AMHARIC/data/train/wav/tr_2_tr01002.wav'"
            ]
          },
          "execution_count": 10,
          "metadata": {},
          "output_type": "execute_result"
        }
      ],
      "source": [
        "filenames[0]"
      ]
    },
    {
      "cell_type": "code",
      "execution_count": 11,
      "metadata": {
        "id": "xeZW5SOvZpXw"
      },
      "outputs": [],
      "source": [
        "import pandas as pd \n",
        "data=pd.DataFrame({'key': filenames,'text': target, 'duration':duration_of_recordings})\n"
      ]
    },
    {
      "cell_type": "code",
      "execution_count": 12,
      "metadata": {
        "colab": {
          "base_uri": "https://localhost:8080/",
          "height": 204
        },
        "id": "oaDUypCwaB0U",
        "outputId": "a45e7006-5ee9-4daf-f91c-391160862bdd"
      },
      "outputs": [
        {
          "data": {
            "text/plain": [
              "' የተ ለቀቁት ምርኮኞች በ አካባቢያቸው ሰላማዊ ኑሮ እንዲ ኖሩ የ ትራንስፖርት ና መጓጓዣ ገንዘብ ተሰጥቷ ቸው መሸኘታቸው ን አመልክቶ በ የ ዞ ናቸው እንደ ደረሱ መቃቋሚያ እንደሚ ሰጣቸው ም አስ ታውቋል '"
            ]
          },
          "execution_count": 12,
          "metadata": {},
          "output_type": "execute_result"
        }
      ],
      "source": [
        "data['text'][0]"
      ]
    },
    {
      "cell_type": "code",
      "execution_count": 24,
      "metadata": {
        "id": "r0lCZ0UBaIT3"
      },
      "outputs": [],
      "source": [
        "data.to_json('./train.json',orient='records')"
      ]
    },
    {
      "cell_type": "code",
      "execution_count": 14,
      "metadata": {},
      "outputs": [],
      "source": [
        "data.to_csv('train.csv', index=False)"
      ]
    }
  ],
  "metadata": {
    "colab": {
      "collapsed_sections": [],
      "name": "Meta_data_generator.ipynb",
      "provenance": []
    },
    "interpreter": {
      "hash": "4013b6f8acbae43f7c648f99fd383e8ec3d5fcc3a746a9453def012ca3c2930d"
    },
    "kernelspec": {
      "display_name": "Python 3.9.7 ('base')",
      "language": "python",
      "name": "python3"
    },
    "language_info": {
      "codemirror_mode": {
        "name": "ipython",
        "version": 3
      },
      "file_extension": ".py",
      "mimetype": "text/x-python",
      "name": "python",
      "nbconvert_exporter": "python",
      "pygments_lexer": "ipython3",
      "version": "3.9.7"
    }
  },
  "nbformat": 4,
  "nbformat_minor": 0
}
